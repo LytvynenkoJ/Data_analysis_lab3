{
 "cells": [
  {
   "cell_type": "code",
   "execution_count": 1,
   "id": "f77188a1",
   "metadata": {},
   "outputs": [],
   "source": [
    "import pandas as pd\n",
    "import numpy as np\n",
    "import os\n",
    "import seaborn as sns\n",
    "\n",
    "from sklearn.model_selection import train_test_split\n",
    "import matplotlib.pyplot as plt\n",
    "from sklearn.preprocessing import StandardScaler\n",
    "from sklearn.preprocessing import LabelEncoder\n",
    "\n",
    "import re\n",
    "import string\n",
    "import nltk\n",
    "#nltk.download('stopwords')\n",
    "from nltk.corpus import stopwords\n",
    "from sklearn.feature_extraction.text import CountVectorizer\n",
    "\n",
    "from skimage import io\n",
    "from skimage.transform import rescale, resize, downscale_local_mean\n",
    "from collections import Counter\n",
    "#import cv2\n",
    "\n",
    "import tensorflow as tf\n",
    "from tensorflow import keras\n",
    "from keras.layers import LSTM, Embedding, Dense, Conv2D, MaxPooling2D, Flatten, Dropout, LeakyReLU\n",
    "from keras import layers\n",
    "from keras import models\n",
    "from keras import optimizers\n",
    "from keras.preprocessing.text import Tokenizer\n",
    "#from keras.preprocessing.sequence import pad_sequences\n",
    "from keras import losses\n",
    "from keras import metrics"
   ]
  },
  {
   "cell_type": "markdown",
   "id": "1a29b9f3",
   "metadata": {},
   "source": [
    "# Класифікація даних"
   ]
  },
  {
   "cell_type": "markdown",
   "id": "b141fa46",
   "metadata": {},
   "source": [
    "https://www.kaggle.com/datasets/deepcontractor/smoke-detection-dataset"
   ]
  },
  {
   "cell_type": "code",
   "execution_count": 2,
   "id": "e0e35927",
   "metadata": {},
   "outputs": [],
   "source": [
    "data_array = pd.read_csv('smoke_detection_iot.csv',delimiter=',')"
   ]
  },
  {
   "cell_type": "code",
   "execution_count": 3,
   "id": "ff423081",
   "metadata": {},
   "outputs": [
    {
     "data": {
      "text/html": [
       "<div>\n",
       "<style scoped>\n",
       "    .dataframe tbody tr th:only-of-type {\n",
       "        vertical-align: middle;\n",
       "    }\n",
       "\n",
       "    .dataframe tbody tr th {\n",
       "        vertical-align: top;\n",
       "    }\n",
       "\n",
       "    .dataframe thead th {\n",
       "        text-align: right;\n",
       "    }\n",
       "</style>\n",
       "<table border=\"1\" class=\"dataframe\">\n",
       "  <thead>\n",
       "    <tr style=\"text-align: right;\">\n",
       "      <th></th>\n",
       "      <th>UTC</th>\n",
       "      <th>Temperature[C]</th>\n",
       "      <th>Humidity[%]</th>\n",
       "      <th>TVOC[ppb]</th>\n",
       "      <th>eCO2[ppm]</th>\n",
       "      <th>Raw H2</th>\n",
       "      <th>Raw Ethanol</th>\n",
       "      <th>Pressure[hPa]</th>\n",
       "      <th>PM1.0</th>\n",
       "      <th>PM2.5</th>\n",
       "      <th>NC0.5</th>\n",
       "      <th>NC1.0</th>\n",
       "      <th>NC2.5</th>\n",
       "      <th>CNT</th>\n",
       "      <th>Fire Alarm</th>\n",
       "    </tr>\n",
       "  </thead>\n",
       "  <tbody>\n",
       "    <tr>\n",
       "      <th>478</th>\n",
       "      <td>1654733809</td>\n",
       "      <td>25.194</td>\n",
       "      <td>50.02</td>\n",
       "      <td>8</td>\n",
       "      <td>400</td>\n",
       "      <td>12777</td>\n",
       "      <td>19790</td>\n",
       "      <td>939.828</td>\n",
       "      <td>0.10</td>\n",
       "      <td>0.12</td>\n",
       "      <td>0.67</td>\n",
       "      <td>0.126</td>\n",
       "      <td>0.015</td>\n",
       "      <td>478</td>\n",
       "      <td>0</td>\n",
       "    </tr>\n",
       "    <tr>\n",
       "      <th>482</th>\n",
       "      <td>1654733813</td>\n",
       "      <td>25.223</td>\n",
       "      <td>49.64</td>\n",
       "      <td>9</td>\n",
       "      <td>400</td>\n",
       "      <td>12779</td>\n",
       "      <td>19792</td>\n",
       "      <td>939.812</td>\n",
       "      <td>0.17</td>\n",
       "      <td>0.19</td>\n",
       "      <td>1.10</td>\n",
       "      <td>0.204</td>\n",
       "      <td>0.024</td>\n",
       "      <td>482</td>\n",
       "      <td>0</td>\n",
       "    </tr>\n",
       "    <tr>\n",
       "      <th>483</th>\n",
       "      <td>1654733814</td>\n",
       "      <td>25.230</td>\n",
       "      <td>49.62</td>\n",
       "      <td>3</td>\n",
       "      <td>400</td>\n",
       "      <td>12780</td>\n",
       "      <td>19794</td>\n",
       "      <td>939.827</td>\n",
       "      <td>0.18</td>\n",
       "      <td>0.18</td>\n",
       "      <td>1.21</td>\n",
       "      <td>0.188</td>\n",
       "      <td>0.004</td>\n",
       "      <td>483</td>\n",
       "      <td>0</td>\n",
       "    </tr>\n",
       "    <tr>\n",
       "      <th>496</th>\n",
       "      <td>1654733827</td>\n",
       "      <td>25.321</td>\n",
       "      <td>54.76</td>\n",
       "      <td>19</td>\n",
       "      <td>400</td>\n",
       "      <td>12779</td>\n",
       "      <td>19779</td>\n",
       "      <td>939.815</td>\n",
       "      <td>0.25</td>\n",
       "      <td>0.26</td>\n",
       "      <td>1.70</td>\n",
       "      <td>0.265</td>\n",
       "      <td>0.006</td>\n",
       "      <td>496</td>\n",
       "      <td>0</td>\n",
       "    </tr>\n",
       "    <tr>\n",
       "      <th>497</th>\n",
       "      <td>1654733828</td>\n",
       "      <td>25.328</td>\n",
       "      <td>55.01</td>\n",
       "      <td>11</td>\n",
       "      <td>400</td>\n",
       "      <td>12776</td>\n",
       "      <td>19772</td>\n",
       "      <td>939.815</td>\n",
       "      <td>0.24</td>\n",
       "      <td>0.25</td>\n",
       "      <td>1.67</td>\n",
       "      <td>0.261</td>\n",
       "      <td>0.006</td>\n",
       "      <td>497</td>\n",
       "      <td>0</td>\n",
       "    </tr>\n",
       "    <tr>\n",
       "      <th>...</th>\n",
       "      <td>...</td>\n",
       "      <td>...</td>\n",
       "      <td>...</td>\n",
       "      <td>...</td>\n",
       "      <td>...</td>\n",
       "      <td>...</td>\n",
       "      <td>...</td>\n",
       "      <td>...</td>\n",
       "      <td>...</td>\n",
       "      <td>...</td>\n",
       "      <td>...</td>\n",
       "      <td>...</td>\n",
       "      <td>...</td>\n",
       "      <td>...</td>\n",
       "      <td>...</td>\n",
       "    </tr>\n",
       "    <tr>\n",
       "      <th>60568</th>\n",
       "      <td>1655127990</td>\n",
       "      <td>12.101</td>\n",
       "      <td>44.62</td>\n",
       "      <td>0</td>\n",
       "      <td>400</td>\n",
       "      <td>13388</td>\n",
       "      <td>21195</td>\n",
       "      <td>937.448</td>\n",
       "      <td>1.90</td>\n",
       "      <td>1.97</td>\n",
       "      <td>13.07</td>\n",
       "      <td>2.038</td>\n",
       "      <td>0.046</td>\n",
       "      <td>3682</td>\n",
       "      <td>0</td>\n",
       "    </tr>\n",
       "    <tr>\n",
       "      <th>60569</th>\n",
       "      <td>1655127991</td>\n",
       "      <td>12.104</td>\n",
       "      <td>44.59</td>\n",
       "      <td>0</td>\n",
       "      <td>400</td>\n",
       "      <td>13406</td>\n",
       "      <td>21235</td>\n",
       "      <td>937.454</td>\n",
       "      <td>1.92</td>\n",
       "      <td>1.99</td>\n",
       "      <td>13.18</td>\n",
       "      <td>2.056</td>\n",
       "      <td>0.046</td>\n",
       "      <td>3683</td>\n",
       "      <td>0</td>\n",
       "    </tr>\n",
       "    <tr>\n",
       "      <th>60570</th>\n",
       "      <td>1655127992</td>\n",
       "      <td>12.108</td>\n",
       "      <td>43.82</td>\n",
       "      <td>0</td>\n",
       "      <td>400</td>\n",
       "      <td>13402</td>\n",
       "      <td>21247</td>\n",
       "      <td>937.462</td>\n",
       "      <td>1.93</td>\n",
       "      <td>2.00</td>\n",
       "      <td>13.27</td>\n",
       "      <td>2.069</td>\n",
       "      <td>0.047</td>\n",
       "      <td>3684</td>\n",
       "      <td>0</td>\n",
       "    </tr>\n",
       "    <tr>\n",
       "      <th>60571</th>\n",
       "      <td>1655127993</td>\n",
       "      <td>12.112</td>\n",
       "      <td>42.82</td>\n",
       "      <td>0</td>\n",
       "      <td>400</td>\n",
       "      <td>13403</td>\n",
       "      <td>21247</td>\n",
       "      <td>937.468</td>\n",
       "      <td>1.91</td>\n",
       "      <td>1.99</td>\n",
       "      <td>13.15</td>\n",
       "      <td>2.051</td>\n",
       "      <td>0.046</td>\n",
       "      <td>3685</td>\n",
       "      <td>0</td>\n",
       "    </tr>\n",
       "    <tr>\n",
       "      <th>60572</th>\n",
       "      <td>1655127994</td>\n",
       "      <td>12.116</td>\n",
       "      <td>41.98</td>\n",
       "      <td>0</td>\n",
       "      <td>400</td>\n",
       "      <td>13401</td>\n",
       "      <td>21251</td>\n",
       "      <td>937.464</td>\n",
       "      <td>1.89</td>\n",
       "      <td>1.96</td>\n",
       "      <td>12.99</td>\n",
       "      <td>2.026</td>\n",
       "      <td>0.046</td>\n",
       "      <td>3686</td>\n",
       "      <td>0</td>\n",
       "    </tr>\n",
       "  </tbody>\n",
       "</table>\n",
       "<p>33444 rows × 15 columns</p>\n",
       "</div>"
      ],
      "text/plain": [
       "              UTC  Temperature[C]  Humidity[%]  TVOC[ppb]  eCO2[ppm]  Raw H2  \\\n",
       "478    1654733809          25.194        50.02          8        400   12777   \n",
       "482    1654733813          25.223        49.64          9        400   12779   \n",
       "483    1654733814          25.230        49.62          3        400   12780   \n",
       "496    1654733827          25.321        54.76         19        400   12779   \n",
       "497    1654733828          25.328        55.01         11        400   12776   \n",
       "...           ...             ...          ...        ...        ...     ...   \n",
       "60568  1655127990          12.101        44.62          0        400   13388   \n",
       "60569  1655127991          12.104        44.59          0        400   13406   \n",
       "60570  1655127992          12.108        43.82          0        400   13402   \n",
       "60571  1655127993          12.112        42.82          0        400   13403   \n",
       "60572  1655127994          12.116        41.98          0        400   13401   \n",
       "\n",
       "       Raw Ethanol  Pressure[hPa]  PM1.0  PM2.5  NC0.5  NC1.0  NC2.5   CNT  \\\n",
       "478          19790        939.828   0.10   0.12   0.67  0.126  0.015   478   \n",
       "482          19792        939.812   0.17   0.19   1.10  0.204  0.024   482   \n",
       "483          19794        939.827   0.18   0.18   1.21  0.188  0.004   483   \n",
       "496          19779        939.815   0.25   0.26   1.70  0.265  0.006   496   \n",
       "497          19772        939.815   0.24   0.25   1.67  0.261  0.006   497   \n",
       "...            ...            ...    ...    ...    ...    ...    ...   ...   \n",
       "60568        21195        937.448   1.90   1.97  13.07  2.038  0.046  3682   \n",
       "60569        21235        937.454   1.92   1.99  13.18  2.056  0.046  3683   \n",
       "60570        21247        937.462   1.93   2.00  13.27  2.069  0.047  3684   \n",
       "60571        21247        937.468   1.91   1.99  13.15  2.051  0.046  3685   \n",
       "60572        21251        937.464   1.89   1.96  12.99  2.026  0.046  3686   \n",
       "\n",
       "       Fire Alarm  \n",
       "478             0  \n",
       "482             0  \n",
       "483             0  \n",
       "496             0  \n",
       "497             0  \n",
       "...           ...  \n",
       "60568           0  \n",
       "60569           0  \n",
       "60570           0  \n",
       "60571           0  \n",
       "60572           0  \n",
       "\n",
       "[33444 rows x 15 columns]"
      ]
     },
     "execution_count": 3,
     "metadata": {},
     "output_type": "execute_result"
    }
   ],
   "source": [
    "del data_array[\"Unnamed: 0\"]\n",
    "var=[\"TVOC[ppb]\", \"eCO2[ppm]\", \"PM1.0\", \"PM2.5\", \"NC0.5\", \"NC1.0\", \"NC2.5\", \"Humidity[%]\"]\n",
    "for i in range(len(var)):\n",
    "    x=var[i]\n",
    "    q_hi  = data_array[x].quantile(0.95)\n",
    "    data_array=data_array[data_array[x]<q_hi]\n",
    "\n",
    "var = [\"Humidity[%]\", \"Raw H2\", \"Pressure[hPa]\", \"Raw Ethanol\"]\n",
    "for i in range(len(var)):\n",
    "    x=var[i]\n",
    "    q_low  = data_array[x].quantile(0.05)\n",
    "    data_array=data_array[data_array[x]>q_low]\n",
    "data_array"
   ]
  },
  {
   "cell_type": "code",
   "execution_count": 4,
   "id": "0b5e7e48",
   "metadata": {},
   "outputs": [],
   "source": [
    "data_without_y = data_array.copy()\n",
    "del data_without_y[\"Fire Alarm\"]"
   ]
  },
  {
   "cell_type": "code",
   "execution_count": 5,
   "id": "45a543b1",
   "metadata": {},
   "outputs": [
    {
     "data": {
      "text/html": [
       "<div>\n",
       "<style scoped>\n",
       "    .dataframe tbody tr th:only-of-type {\n",
       "        vertical-align: middle;\n",
       "    }\n",
       "\n",
       "    .dataframe tbody tr th {\n",
       "        vertical-align: top;\n",
       "    }\n",
       "\n",
       "    .dataframe thead th {\n",
       "        text-align: right;\n",
       "    }\n",
       "</style>\n",
       "<table border=\"1\" class=\"dataframe\">\n",
       "  <thead>\n",
       "    <tr style=\"text-align: right;\">\n",
       "      <th></th>\n",
       "      <th>UTC</th>\n",
       "      <th>Temperature[C]</th>\n",
       "      <th>Humidity[%]</th>\n",
       "      <th>TVOC[ppb]</th>\n",
       "      <th>eCO2[ppm]</th>\n",
       "      <th>Raw H2</th>\n",
       "      <th>Raw Ethanol</th>\n",
       "      <th>Pressure[hPa]</th>\n",
       "      <th>PM1.0</th>\n",
       "      <th>PM2.5</th>\n",
       "      <th>NC0.5</th>\n",
       "      <th>NC1.0</th>\n",
       "      <th>NC2.5</th>\n",
       "      <th>CNT</th>\n",
       "    </tr>\n",
       "  </thead>\n",
       "  <tbody>\n",
       "    <tr>\n",
       "      <th>478</th>\n",
       "      <td>-0.621609</td>\n",
       "      <td>0.754027</td>\n",
       "      <td>-0.223219</td>\n",
       "      <td>-1.486356</td>\n",
       "      <td>-0.46422</td>\n",
       "      <td>-1.598553</td>\n",
       "      <td>0.285942</td>\n",
       "      <td>1.613402</td>\n",
       "      <td>-2.264430</td>\n",
       "      <td>-2.238350</td>\n",
       "      <td>-2.268853</td>\n",
       "      <td>-2.235135</td>\n",
       "      <td>-1.386239</td>\n",
       "      <td>-1.641414</td>\n",
       "    </tr>\n",
       "    <tr>\n",
       "      <th>482</th>\n",
       "      <td>-0.621532</td>\n",
       "      <td>0.756418</td>\n",
       "      <td>-0.357690</td>\n",
       "      <td>-1.484426</td>\n",
       "      <td>-0.46422</td>\n",
       "      <td>-1.583055</td>\n",
       "      <td>0.291627</td>\n",
       "      <td>1.581057</td>\n",
       "      <td>-2.145112</td>\n",
       "      <td>-2.123490</td>\n",
       "      <td>-2.162363</td>\n",
       "      <td>-2.111239</td>\n",
       "      <td>-0.751289</td>\n",
       "      <td>-1.640869</td>\n",
       "    </tr>\n",
       "    <tr>\n",
       "      <th>483</th>\n",
       "      <td>-0.621513</td>\n",
       "      <td>0.756996</td>\n",
       "      <td>-0.364768</td>\n",
       "      <td>-1.496002</td>\n",
       "      <td>-0.46422</td>\n",
       "      <td>-1.575305</td>\n",
       "      <td>0.297311</td>\n",
       "      <td>1.611381</td>\n",
       "      <td>-2.128067</td>\n",
       "      <td>-2.139898</td>\n",
       "      <td>-2.135122</td>\n",
       "      <td>-2.136654</td>\n",
       "      <td>-2.162289</td>\n",
       "      <td>-1.640732</td>\n",
       "    </tr>\n",
       "    <tr>\n",
       "      <th>496</th>\n",
       "      <td>-0.621263</td>\n",
       "      <td>0.764501</td>\n",
       "      <td>1.454133</td>\n",
       "      <td>-1.465133</td>\n",
       "      <td>-0.46422</td>\n",
       "      <td>-1.583055</td>\n",
       "      <td>0.254677</td>\n",
       "      <td>1.587122</td>\n",
       "      <td>-2.008748</td>\n",
       "      <td>-2.008630</td>\n",
       "      <td>-2.013773</td>\n",
       "      <td>-2.014347</td>\n",
       "      <td>-2.021189</td>\n",
       "      <td>-1.638960</td>\n",
       "    </tr>\n",
       "    <tr>\n",
       "      <th>497</th>\n",
       "      <td>-0.621244</td>\n",
       "      <td>0.765078</td>\n",
       "      <td>1.542601</td>\n",
       "      <td>-1.480568</td>\n",
       "      <td>-0.46422</td>\n",
       "      <td>-1.606303</td>\n",
       "      <td>0.234781</td>\n",
       "      <td>1.587122</td>\n",
       "      <td>-2.025794</td>\n",
       "      <td>-2.025039</td>\n",
       "      <td>-2.021202</td>\n",
       "      <td>-2.020700</td>\n",
       "      <td>-2.021189</td>\n",
       "      <td>-1.638824</td>\n",
       "    </tr>\n",
       "    <tr>\n",
       "      <th>...</th>\n",
       "      <td>...</td>\n",
       "      <td>...</td>\n",
       "      <td>...</td>\n",
       "      <td>...</td>\n",
       "      <td>...</td>\n",
       "      <td>...</td>\n",
       "      <td>...</td>\n",
       "      <td>...</td>\n",
       "      <td>...</td>\n",
       "      <td>...</td>\n",
       "      <td>...</td>\n",
       "      <td>...</td>\n",
       "      <td>...</td>\n",
       "      <td>...</td>\n",
       "    </tr>\n",
       "    <tr>\n",
       "      <th>60568</th>\n",
       "      <td>6.952497</td>\n",
       "      <td>-0.325809</td>\n",
       "      <td>-2.134127</td>\n",
       "      <td>-1.501790</td>\n",
       "      <td>-0.46422</td>\n",
       "      <td>3.136327</td>\n",
       "      <td>4.279359</td>\n",
       "      <td>-3.197984</td>\n",
       "      <td>0.803752</td>\n",
       "      <td>0.797230</td>\n",
       "      <td>0.802015</td>\n",
       "      <td>0.801895</td>\n",
       "      <td>0.800811</td>\n",
       "      <td>-1.204554</td>\n",
       "    </tr>\n",
       "    <tr>\n",
       "      <th>60569</th>\n",
       "      <td>6.952516</td>\n",
       "      <td>-0.325562</td>\n",
       "      <td>-2.144743</td>\n",
       "      <td>-1.501790</td>\n",
       "      <td>-0.46422</td>\n",
       "      <td>3.275816</td>\n",
       "      <td>4.393051</td>\n",
       "      <td>-3.185855</td>\n",
       "      <td>0.837843</td>\n",
       "      <td>0.830047</td>\n",
       "      <td>0.829257</td>\n",
       "      <td>0.830486</td>\n",
       "      <td>0.800811</td>\n",
       "      <td>-1.204417</td>\n",
       "    </tr>\n",
       "    <tr>\n",
       "      <th>60570</th>\n",
       "      <td>6.952535</td>\n",
       "      <td>-0.325232</td>\n",
       "      <td>-2.417224</td>\n",
       "      <td>-1.501790</td>\n",
       "      <td>-0.46422</td>\n",
       "      <td>3.244818</td>\n",
       "      <td>4.427158</td>\n",
       "      <td>-3.169682</td>\n",
       "      <td>0.854889</td>\n",
       "      <td>0.846456</td>\n",
       "      <td>0.851545</td>\n",
       "      <td>0.851135</td>\n",
       "      <td>0.871361</td>\n",
       "      <td>-1.204281</td>\n",
       "    </tr>\n",
       "    <tr>\n",
       "      <th>60571</th>\n",
       "      <td>6.952555</td>\n",
       "      <td>-0.324902</td>\n",
       "      <td>-2.771096</td>\n",
       "      <td>-1.501790</td>\n",
       "      <td>-0.46422</td>\n",
       "      <td>3.252567</td>\n",
       "      <td>4.427158</td>\n",
       "      <td>-3.157552</td>\n",
       "      <td>0.820798</td>\n",
       "      <td>0.830047</td>\n",
       "      <td>0.821827</td>\n",
       "      <td>0.822544</td>\n",
       "      <td>0.800811</td>\n",
       "      <td>-1.204145</td>\n",
       "    </tr>\n",
       "    <tr>\n",
       "      <th>60572</th>\n",
       "      <td>6.952574</td>\n",
       "      <td>-0.324572</td>\n",
       "      <td>-3.068348</td>\n",
       "      <td>-1.501790</td>\n",
       "      <td>-0.46422</td>\n",
       "      <td>3.237069</td>\n",
       "      <td>4.438527</td>\n",
       "      <td>-3.165639</td>\n",
       "      <td>0.786707</td>\n",
       "      <td>0.780822</td>\n",
       "      <td>0.782203</td>\n",
       "      <td>0.782834</td>\n",
       "      <td>0.800811</td>\n",
       "      <td>-1.204008</td>\n",
       "    </tr>\n",
       "  </tbody>\n",
       "</table>\n",
       "<p>33444 rows × 14 columns</p>\n",
       "</div>"
      ],
      "text/plain": [
       "            UTC  Temperature[C]  Humidity[%]  TVOC[ppb]  eCO2[ppm]    Raw H2  \\\n",
       "478   -0.621609        0.754027    -0.223219  -1.486356   -0.46422 -1.598553   \n",
       "482   -0.621532        0.756418    -0.357690  -1.484426   -0.46422 -1.583055   \n",
       "483   -0.621513        0.756996    -0.364768  -1.496002   -0.46422 -1.575305   \n",
       "496   -0.621263        0.764501     1.454133  -1.465133   -0.46422 -1.583055   \n",
       "497   -0.621244        0.765078     1.542601  -1.480568   -0.46422 -1.606303   \n",
       "...         ...             ...          ...        ...        ...       ...   \n",
       "60568  6.952497       -0.325809    -2.134127  -1.501790   -0.46422  3.136327   \n",
       "60569  6.952516       -0.325562    -2.144743  -1.501790   -0.46422  3.275816   \n",
       "60570  6.952535       -0.325232    -2.417224  -1.501790   -0.46422  3.244818   \n",
       "60571  6.952555       -0.324902    -2.771096  -1.501790   -0.46422  3.252567   \n",
       "60572  6.952574       -0.324572    -3.068348  -1.501790   -0.46422  3.237069   \n",
       "\n",
       "       Raw Ethanol  Pressure[hPa]     PM1.0     PM2.5     NC0.5     NC1.0  \\\n",
       "478       0.285942       1.613402 -2.264430 -2.238350 -2.268853 -2.235135   \n",
       "482       0.291627       1.581057 -2.145112 -2.123490 -2.162363 -2.111239   \n",
       "483       0.297311       1.611381 -2.128067 -2.139898 -2.135122 -2.136654   \n",
       "496       0.254677       1.587122 -2.008748 -2.008630 -2.013773 -2.014347   \n",
       "497       0.234781       1.587122 -2.025794 -2.025039 -2.021202 -2.020700   \n",
       "...            ...            ...       ...       ...       ...       ...   \n",
       "60568     4.279359      -3.197984  0.803752  0.797230  0.802015  0.801895   \n",
       "60569     4.393051      -3.185855  0.837843  0.830047  0.829257  0.830486   \n",
       "60570     4.427158      -3.169682  0.854889  0.846456  0.851545  0.851135   \n",
       "60571     4.427158      -3.157552  0.820798  0.830047  0.821827  0.822544   \n",
       "60572     4.438527      -3.165639  0.786707  0.780822  0.782203  0.782834   \n",
       "\n",
       "          NC2.5       CNT  \n",
       "478   -1.386239 -1.641414  \n",
       "482   -0.751289 -1.640869  \n",
       "483   -2.162289 -1.640732  \n",
       "496   -2.021189 -1.638960  \n",
       "497   -2.021189 -1.638824  \n",
       "...         ...       ...  \n",
       "60568  0.800811 -1.204554  \n",
       "60569  0.800811 -1.204417  \n",
       "60570  0.871361 -1.204281  \n",
       "60571  0.800811 -1.204145  \n",
       "60572  0.800811 -1.204008  \n",
       "\n",
       "[33444 rows x 14 columns]"
      ]
     },
     "execution_count": 5,
     "metadata": {},
     "output_type": "execute_result"
    }
   ],
   "source": [
    "variables=[\"UTC\", \"Temperature[C]\", \"Humidity[%]\", \"TVOC[ppb]\", \"eCO2[ppm]\", \"Raw H2\", \"Raw Ethanol\", \"Pressure[hPa]\", \"PM1.0\", \"PM2.5\", \"NC0.5\", \"NC1.0\", \"NC2.5\", \"CNT\"]\n",
    "scaler = StandardScaler()\n",
    "data_without_y[variables] = scaler.fit_transform(data_without_y[variables])\n",
    "data_without_y"
   ]
  },
  {
   "cell_type": "code",
   "execution_count": 6,
   "id": "67be6699",
   "metadata": {},
   "outputs": [],
   "source": [
    "x_train, x_test, y_train, y_test = train_test_split(data_without_y,     \n",
    "                                                    data_array['Fire Alarm'].values, \n",
    "                                                    train_size=0.3)"
   ]
  },
  {
   "cell_type": "code",
   "execution_count": 7,
   "id": "d14f0ed5",
   "metadata": {},
   "outputs": [],
   "source": [
    "model = keras.Sequential()\n",
    "model.add(Dense(32, input_dim=14,  activation='relu'))\n",
    "model.add(Dense(32, activation='relu'))\n",
    "model.add(Dense(1, activation='sigmoid'))"
   ]
  },
  {
   "cell_type": "code",
   "execution_count": 8,
   "id": "e212dff3",
   "metadata": {},
   "outputs": [],
   "source": [
    "model.compile(optimizer='adam',\n",
    "                      loss='binary_crossentropy',\n",
    "                      metrics=['accuracy'])"
   ]
  },
  {
   "cell_type": "code",
   "execution_count": 9,
   "id": "5a261642",
   "metadata": {},
   "outputs": [
    {
     "name": "stdout",
     "output_type": "stream",
     "text": [
      "Model: \"sequential\"\n",
      "_________________________________________________________________\n",
      " Layer (type)                Output Shape              Param #   \n",
      "=================================================================\n",
      " dense (Dense)               (None, 32)                480       \n",
      "                                                                 \n",
      " dense_1 (Dense)             (None, 32)                1056      \n",
      "                                                                 \n",
      " dense_2 (Dense)             (None, 1)                 33        \n",
      "                                                                 \n",
      "=================================================================\n",
      "Total params: 1,569\n",
      "Trainable params: 1,569\n",
      "Non-trainable params: 0\n",
      "_________________________________________________________________\n"
     ]
    }
   ],
   "source": [
    "model.summary()"
   ]
  },
  {
   "cell_type": "code",
   "execution_count": 10,
   "id": "f8d4e476",
   "metadata": {},
   "outputs": [
    {
     "name": "stdout",
     "output_type": "stream",
     "text": [
      "Epoch 1/20\n",
      "251/251 [==============================] - 2s 3ms/step - loss: 0.2114 - accuracy: 0.9237 - val_loss: 0.0559 - val_accuracy: 0.9885\n",
      "Epoch 2/20\n",
      "251/251 [==============================] - 1s 2ms/step - loss: 0.0349 - accuracy: 0.9941 - val_loss: 0.0177 - val_accuracy: 0.9970\n",
      "Epoch 3/20\n",
      "251/251 [==============================] - 0s 2ms/step - loss: 0.0141 - accuracy: 0.9985 - val_loss: 0.0088 - val_accuracy: 0.9980\n",
      "Epoch 4/20\n",
      "251/251 [==============================] - 1s 2ms/step - loss: 0.0083 - accuracy: 0.9990 - val_loss: 0.0056 - val_accuracy: 0.9990\n",
      "Epoch 5/20\n",
      "251/251 [==============================] - 1s 2ms/step - loss: 0.0057 - accuracy: 0.9994 - val_loss: 0.0053 - val_accuracy: 0.9985\n",
      "Epoch 6/20\n",
      "251/251 [==============================] - 1s 2ms/step - loss: 0.0043 - accuracy: 0.9996 - val_loss: 0.0032 - val_accuracy: 0.9995\n",
      "Epoch 7/20\n",
      "251/251 [==============================] - 0s 2ms/step - loss: 0.0033 - accuracy: 0.9998 - val_loss: 0.0024 - val_accuracy: 0.9995\n",
      "Epoch 8/20\n",
      "251/251 [==============================] - 1s 2ms/step - loss: 0.0027 - accuracy: 0.9998 - val_loss: 0.0021 - val_accuracy: 0.9995\n",
      "Epoch 9/20\n",
      "251/251 [==============================] - 1s 2ms/step - loss: 0.0023 - accuracy: 0.9998 - val_loss: 0.0017 - val_accuracy: 0.9995\n",
      "Epoch 10/20\n",
      "251/251 [==============================] - 1s 2ms/step - loss: 0.0021 - accuracy: 0.9998 - val_loss: 0.0017 - val_accuracy: 0.9995\n",
      "Epoch 11/20\n",
      "251/251 [==============================] - 1s 2ms/step - loss: 0.0017 - accuracy: 0.9998 - val_loss: 0.0014 - val_accuracy: 0.9995\n",
      "Epoch 12/20\n",
      "251/251 [==============================] - 1s 2ms/step - loss: 0.0016 - accuracy: 0.9998 - val_loss: 0.0012 - val_accuracy: 0.9995\n",
      "Epoch 13/20\n",
      "251/251 [==============================] - 1s 2ms/step - loss: 0.0016 - accuracy: 0.9998 - val_loss: 0.0010 - val_accuracy: 0.9995\n",
      "Epoch 14/20\n",
      "251/251 [==============================] - 1s 2ms/step - loss: 0.0014 - accuracy: 0.9998 - val_loss: 0.0012 - val_accuracy: 0.9995\n",
      "Epoch 15/20\n",
      "251/251 [==============================] - 0s 2ms/step - loss: 0.0011 - accuracy: 0.9998 - val_loss: 0.0012 - val_accuracy: 0.9995\n",
      "Epoch 16/20\n",
      "251/251 [==============================] - 1s 2ms/step - loss: 0.0013 - accuracy: 0.9998 - val_loss: 9.0851e-04 - val_accuracy: 0.9995\n",
      "Epoch 17/20\n",
      "251/251 [==============================] - 0s 2ms/step - loss: 0.0011 - accuracy: 0.9998 - val_loss: 9.5514e-04 - val_accuracy: 0.9995\n",
      "Epoch 18/20\n",
      "251/251 [==============================] - 0s 2ms/step - loss: 0.0011 - accuracy: 0.9998 - val_loss: 0.0014 - val_accuracy: 1.0000\n",
      "Epoch 19/20\n",
      "251/251 [==============================] - 1s 2ms/step - loss: 9.6563e-04 - accuracy: 0.9998 - val_loss: 0.0011 - val_accuracy: 0.9995\n",
      "Epoch 20/20\n",
      "251/251 [==============================] - 0s 2ms/step - loss: 0.0011 - accuracy: 0.9998 - val_loss: 7.5183e-04 - val_accuracy: 0.9995\n"
     ]
    }
   ],
   "source": [
    "history = model.fit(x_train, y_train, epochs=20, validation_split=0.2)"
   ]
  },
  {
   "cell_type": "code",
   "execution_count": 11,
   "id": "3b2557c7",
   "metadata": {},
   "outputs": [
    {
     "data": {
      "image/png": "[encoded data removed]",
      "text/plain": [
       "<Figure size 1080x288 with 2 Axes>"
      ]
     },
     "metadata": {
      "needs_background": "light"
     },
     "output_type": "display_data"
    }
   ],
   "source": [
    "fig = plt.figure(figsize=(15,4))\n",
    "fig.add_subplot(121)\n",
    "plt.plot(history.history['accuracy'])\n",
    "plt.plot(history.history['val_accuracy'])\n",
    "plt.legend(['Training accuracy', 'Validation accuracy'])\n",
    "plt.title('Training and validation accuracy')\n",
    "plt.xlabel('Epoch Number')\n",
    "plt.ylabel('Accuracy')\n",
    "\n",
    "fig.add_subplot(122)\n",
    "plt.plot(history.history['loss'])\n",
    "plt.plot(history.history['val_loss'])\n",
    "plt.legend(['Training loss', 'Validation loss'])\n",
    "plt.title('Training and validation loss')\n",
    "plt.xlabel('Epoch Number')\n",
    "plt.ylabel('Loss')\n",
    "plt.show()"
   ]
  },
  {
   "cell_type": "code",
   "execution_count": 12,
   "id": "bd0f1a36",
   "metadata": {},
   "outputs": [
    {
     "name": "stdout",
     "output_type": "stream",
     "text": [
      "732/732 [==============================] - 1s 1ms/step - loss: 0.0011 - accuracy: 0.9997\n"
     ]
    },
    {
     "data": {
      "text/plain": [
       "[0.0010502736549824476, 0.9997010231018066]"
      ]
     },
     "execution_count": 12,
     "metadata": {},
     "output_type": "execute_result"
    }
   ],
   "source": [
    "model.evaluate(x_test, y_test)"
   ]
  },
  {
   "cell_type": "markdown",
   "id": "3902ae2a",
   "metadata": {},
   "source": [
    "# Класифікація зображень"
   ]
  },
  {
   "cell_type": "markdown",
   "id": "4362bf26",
   "metadata": {},
   "source": [
    "https://www.kaggle.com/datasets/utkarshsaxenadn/landscape-recognition-image-dataset-12k-images"
   ]
  },
  {
   "cell_type": "code",
   "execution_count": 13,
   "id": "791a956d",
   "metadata": {},
   "outputs": [],
   "source": [
    "files=[]\n",
    "types=[]\n",
    "codes=[]"
   ]
  },
  {
   "cell_type": "code",
   "execution_count": 14,
   "id": "09dc3694",
   "metadata": {},
   "outputs": [],
   "source": [
    "def createData(folder, i):\n",
    "    for filename in os.listdir(folder):\n",
    "        files.append(filename)\n",
    "        types.append(folder)\n",
    "        codes.append(i)"
   ]
  },
  {
   "cell_type": "code",
   "execution_count": 15,
   "id": "8f2eda08",
   "metadata": {},
   "outputs": [],
   "source": [
    "createData('Coast',0)\n",
    "createData('Desert',1)\n",
    "createData('Forest',2)\n",
    "createData('Glacier',3)\n",
    "createData('Mountain',4)\n"
   ]
  },
  {
   "cell_type": "code",
   "execution_count": 16,
   "id": "fcd4118d",
   "metadata": {},
   "outputs": [],
   "source": [
    "data = {\n",
    "  \"filename\": files,\n",
    "  \"type\": types,\n",
    "  \"code\": codes,\n",
    "}\n",
    "\n",
    "data_array = pd.DataFrame(data)"
   ]
  },
  {
   "cell_type": "code",
   "execution_count": 17,
   "id": "39bec832",
   "metadata": {},
   "outputs": [
    {
     "data": {
      "text/html": [
       "<div>\n",
       "<style scoped>\n",
       "    .dataframe tbody tr th:only-of-type {\n",
       "        vertical-align: middle;\n",
       "    }\n",
       "\n",
       "    .dataframe tbody tr th {\n",
       "        vertical-align: top;\n",
       "    }\n",
       "\n",
       "    .dataframe thead th {\n",
       "        text-align: right;\n",
       "    }\n",
       "</style>\n",
       "<table border=\"1\" class=\"dataframe\">\n",
       "  <thead>\n",
       "    <tr style=\"text-align: right;\">\n",
       "      <th></th>\n",
       "      <th>filename</th>\n",
       "      <th>type</th>\n",
       "      <th>code</th>\n",
       "    </tr>\n",
       "  </thead>\n",
       "  <tbody>\n",
       "    <tr>\n",
       "      <th>0</th>\n",
       "      <td>Coast-Train (1).jpeg</td>\n",
       "      <td>Coast</td>\n",
       "      <td>0</td>\n",
       "    </tr>\n",
       "    <tr>\n",
       "      <th>1</th>\n",
       "      <td>Coast-Train (10).jpeg</td>\n",
       "      <td>Coast</td>\n",
       "      <td>0</td>\n",
       "    </tr>\n",
       "    <tr>\n",
       "      <th>2</th>\n",
       "      <td>Coast-Train (100).jpeg</td>\n",
       "      <td>Coast</td>\n",
       "      <td>0</td>\n",
       "    </tr>\n",
       "    <tr>\n",
       "      <th>3</th>\n",
       "      <td>Coast-Train (1000).jpeg</td>\n",
       "      <td>Coast</td>\n",
       "      <td>0</td>\n",
       "    </tr>\n",
       "    <tr>\n",
       "      <th>4</th>\n",
       "      <td>Coast-Train (1001).jpeg</td>\n",
       "      <td>Coast</td>\n",
       "      <td>0</td>\n",
       "    </tr>\n",
       "    <tr>\n",
       "      <th>...</th>\n",
       "      <td>...</td>\n",
       "      <td>...</td>\n",
       "      <td>...</td>\n",
       "    </tr>\n",
       "    <tr>\n",
       "      <th>9995</th>\n",
       "      <td>Mountain (4971).jpeg</td>\n",
       "      <td>Mountain</td>\n",
       "      <td>4</td>\n",
       "    </tr>\n",
       "    <tr>\n",
       "      <th>9996</th>\n",
       "      <td>Mountain (4972).jpeg</td>\n",
       "      <td>Mountain</td>\n",
       "      <td>4</td>\n",
       "    </tr>\n",
       "    <tr>\n",
       "      <th>9997</th>\n",
       "      <td>Mountain (4973).jpeg</td>\n",
       "      <td>Mountain</td>\n",
       "      <td>4</td>\n",
       "    </tr>\n",
       "    <tr>\n",
       "      <th>9998</th>\n",
       "      <td>Mountain (4974).jpeg</td>\n",
       "      <td>Mountain</td>\n",
       "      <td>4</td>\n",
       "    </tr>\n",
       "    <tr>\n",
       "      <th>9999</th>\n",
       "      <td>Mountain (4975).jpeg</td>\n",
       "      <td>Mountain</td>\n",
       "      <td>4</td>\n",
       "    </tr>\n",
       "  </tbody>\n",
       "</table>\n",
       "<p>10000 rows × 3 columns</p>\n",
       "</div>"
      ],
      "text/plain": [
       "                     filename      type  code\n",
       "0        Coast-Train (1).jpeg     Coast     0\n",
       "1       Coast-Train (10).jpeg     Coast     0\n",
       "2      Coast-Train (100).jpeg     Coast     0\n",
       "3     Coast-Train (1000).jpeg     Coast     0\n",
       "4     Coast-Train (1001).jpeg     Coast     0\n",
       "...                       ...       ...   ...\n",
       "9995     Mountain (4971).jpeg  Mountain     4\n",
       "9996     Mountain (4972).jpeg  Mountain     4\n",
       "9997     Mountain (4973).jpeg  Mountain     4\n",
       "9998     Mountain (4974).jpeg  Mountain     4\n",
       "9999     Mountain (4975).jpeg  Mountain     4\n",
       "\n",
       "[10000 rows x 3 columns]"
      ]
     },
     "execution_count": 17,
     "metadata": {},
     "output_type": "execute_result"
    }
   ],
   "source": [
    "data_array"
   ]
  },
  {
   "cell_type": "code",
   "execution_count": 18,
   "id": "af60b493",
   "metadata": {},
   "outputs": [
    {
     "data": {
      "text/plain": [
       "Counter({'Coast': 2000,\n",
       "         'Desert': 2000,\n",
       "         'Forest': 2000,\n",
       "         'Glacier': 2000,\n",
       "         'Mountain': 2000})"
      ]
     },
     "execution_count": 18,
     "metadata": {},
     "output_type": "execute_result"
    }
   ],
   "source": [
    "Counter(data_array['type'])"
   ]
  },
  {
   "cell_type": "code",
   "execution_count": 19,
   "id": "604c6ce3",
   "metadata": {},
   "outputs": [
    {
     "data": {
      "text/plain": [
       "<AxesSubplot:xlabel='type', ylabel='count'>"
      ]
     },
     "execution_count": 19,
     "metadata": {},
     "output_type": "execute_result"
    },
    {
     "data": {
      "image/png": "[encoded data removed]",
      "text/plain": [
       "<Figure size 432x288 with 1 Axes>"
      ]
     },
     "metadata": {
      "needs_background": "light"
     },
     "output_type": "display_data"
    }
   ],
   "source": [
    "sns.countplot(x='type', data=data_array)"
   ]
  },
  {
   "cell_type": "code",
   "execution_count": 20,
   "id": "530fa738",
   "metadata": {},
   "outputs": [],
   "source": [
    "types=['Coast', 'Desert', 'Forest', 'Glacier', 'Mountain']\n",
    "examples=[]\n",
    "for i in range(5):\n",
    "    examples.append(data_array['filename'][i*2000])"
   ]
  },
  {
   "cell_type": "code",
   "execution_count": 21,
   "id": "46fadf46",
   "metadata": {},
   "outputs": [],
   "source": [
    "x = []\n",
    "for i in range(len(examples)):\n",
    "    path=types[i]+\"/\"+ examples[i]\n",
    "    image = io.imread(path)\n",
    "    image_res = resize(image, (150, 150), anti_aliasing=True)\n",
    "    np_pic = np.array(image_res, dtype=np.float32)/255\n",
    "    x.append(np_pic)"
   ]
  },
  {
   "cell_type": "code",
   "execution_count": 22,
   "id": "4bdac0ac",
   "metadata": {},
   "outputs": [
    {
     "data": {
      "image/png": "[encoded data removed]",
      "text/plain": [
       "<Figure size 864x4320 with 5 Axes>"
      ]
     },
     "metadata": {
      "needs_background": "light"
     },
     "output_type": "display_data"
    }
   ],
   "source": [
    "fig = plt.figure(figsize=(12,60))\n",
    "for i in range(5):\n",
    "    ax = fig.add_subplot(1, 5, i+1)\n",
    "    ax.set_title(types[i])     \n",
    "    ax.get_xaxis().set_visible(False)\n",
    "    ax.get_yaxis().set_visible(False)\n",
    "    plt.imshow(x[i]*255)"
   ]
  },
  {
   "cell_type": "code",
   "execution_count": 23,
   "id": "78cf5f67",
   "metadata": {},
   "outputs": [],
   "source": [
    "x = []\n",
    "y=data_array['code']\n",
    "for i in range(len(data_array['filename'])):\n",
    "    path=data_array['type'][i]+\"/\"+ data_array['filename'][i]\n",
    "    image = io.imread(path)\n",
    "    image_res = resize(image, (150, 150), anti_aliasing=True)\n",
    "    np_pic = np.array(image_res, dtype=np.float32)\n",
    "    x.append(np_pic)"
   ]
  },
  {
   "cell_type": "code",
   "execution_count": 24,
   "id": "b62954b5",
   "metadata": {},
   "outputs": [],
   "source": [
    "np.save('landscape.npy', x)"
   ]
  },
  {
   "cell_type": "code",
   "execution_count": 25,
   "id": "355da211",
   "metadata": {},
   "outputs": [],
   "source": [
    "x = np.load('landscape.npy')"
   ]
  },
  {
   "cell_type": "code",
   "execution_count": 26,
   "id": "aed95fec",
   "metadata": {},
   "outputs": [],
   "source": [
    "x=np.asarray(x)"
   ]
  },
  {
   "cell_type": "code",
   "execution_count": 27,
   "id": "b7707e1e",
   "metadata": {},
   "outputs": [
    {
     "data": {
      "text/plain": [
       "(10000, 150, 150, 3)"
      ]
     },
     "execution_count": 27,
     "metadata": {},
     "output_type": "execute_result"
    }
   ],
   "source": [
    "x.shape"
   ]
  },
  {
   "cell_type": "code",
   "execution_count": 28,
   "id": "76e96b1f",
   "metadata": {},
   "outputs": [],
   "source": [
    "x_train, x_test, y_train, y_test = train_test_split(x, y, train_size=0.8)"
   ]
  },
  {
   "cell_type": "code",
   "execution_count": 29,
   "id": "85176b57",
   "metadata": {},
   "outputs": [
    {
     "name": "stdout",
     "output_type": "stream",
     "text": [
      "Model: \"sequential_1\"\n",
      "_________________________________________________________________\n",
      " Layer (type)                Output Shape              Param #   \n",
      "=================================================================\n",
      " conv2d (Conv2D)             (None, 150, 150, 16)      448       \n",
      "                                                                 \n",
      " leaky_re_lu (LeakyReLU)     (None, 150, 150, 16)      0         \n",
      "                                                                 \n",
      " max_pooling2d (MaxPooling2D  (None, 75, 75, 16)       0         \n",
      " )                                                               \n",
      "                                                                 \n",
      " conv2d_1 (Conv2D)           (None, 75, 75, 32)        4640      \n",
      "                                                                 \n",
      " leaky_re_lu_1 (LeakyReLU)   (None, 75, 75, 32)        0         \n",
      "                                                                 \n",
      " max_pooling2d_1 (MaxPooling  (None, 38, 38, 32)       0         \n",
      " 2D)                                                             \n",
      "                                                                 \n",
      " conv2d_2 (Conv2D)           (None, 38, 38, 64)        18496     \n",
      "                                                                 \n",
      " max_pooling2d_2 (MaxPooling  (None, 19, 19, 64)       0         \n",
      " 2D)                                                             \n",
      "                                                                 \n",
      " conv2d_3 (Conv2D)           (None, 19, 19, 32)        18464     \n",
      "                                                                 \n",
      " flatten (Flatten)           (None, 11552)             0         \n",
      "                                                                 \n",
      " dense_3 (Dense)             (None, 64)                739392    \n",
      "                                                                 \n",
      " dense_4 (Dense)             (None, 5)                 325       \n",
      "                                                                 \n",
      "=================================================================\n",
      "Total params: 781,765\n",
      "Trainable params: 781,765\n",
      "Non-trainable params: 0\n",
      "_________________________________________________________________\n"
     ]
    }
   ],
   "source": [
    "alpha = 0.02\n",
    "\n",
    "model = keras.Sequential()\n",
    "\n",
    "model.add(Conv2D(filters=16, kernel_size=(3, 3), padding=\"same\", input_shape=(150,150,3)))\n",
    "model.add(LeakyReLU(alpha=alpha))\n",
    "model.add(MaxPooling2D(pool_size=(2, 2), padding='same'))\n",
    "\n",
    "model.add(Conv2D(filters=32, kernel_size=(3, 3), padding=\"same\"))\n",
    "model.add(LeakyReLU(alpha=alpha))\n",
    "model.add(MaxPooling2D(pool_size=(2, 2), padding='same'))\n",
    "\n",
    "model.add(Conv2D(filters=64, kernel_size=(3, 3), padding=\"same\"))\n",
    "model.add(MaxPooling2D(pool_size=(2, 2), padding='same'))\n",
    "\n",
    "model.add(Conv2D(filters=32, kernel_size=(3, 3), padding=\"same\"))\n",
    "\n",
    "model.add(Flatten())\n",
    "\n",
    "model.add(Dense(64))\n",
    "\n",
    "model.add(Dense(5, activation=\"softmax\"))\n",
    "\n",
    "model.compile(optimizer='adam', loss='sparse_categorical_crossentropy', metrics=['accuracy'])\n",
    "\n",
    "model.summary()"
   ]
  },
  {
   "cell_type": "code",
   "execution_count": 30,
   "id": "c2677ea2",
   "metadata": {},
   "outputs": [],
   "source": [
    "y_train=np.asarray(y_train).astype(np.int32)\n",
    "y_test=np.asarray(y_test).astype(np.int32)"
   ]
  },
  {
   "cell_type": "code",
   "execution_count": 31,
   "id": "f8a7a7f3",
   "metadata": {},
   "outputs": [
    {
     "name": "stdout",
     "output_type": "stream",
     "text": [
      "Epoch 1/10\n",
      "200/200 [==============================] - 87s 430ms/step - loss: 1.0073 - accuracy: 0.6136 - val_loss: 1.0203 - val_accuracy: 0.6469\n",
      "Epoch 2/10\n",
      "200/200 [==============================] - 92s 461ms/step - loss: 0.8243 - accuracy: 0.6855 - val_loss: 0.9028 - val_accuracy: 0.6556\n",
      "Epoch 3/10\n",
      "200/200 [==============================] - 103s 515ms/step - loss: 0.7599 - accuracy: 0.7163 - val_loss: 0.7914 - val_accuracy: 0.7013\n",
      "Epoch 4/10\n",
      "200/200 [==============================] - 103s 514ms/step - loss: 0.7101 - accuracy: 0.7295 - val_loss: 0.8255 - val_accuracy: 0.6944\n",
      "Epoch 5/10\n",
      "200/200 [==============================] - 100s 502ms/step - loss: 0.6686 - accuracy: 0.7477 - val_loss: 0.8640 - val_accuracy: 0.6969\n",
      "Epoch 6/10\n",
      "200/200 [==============================] - 79s 397ms/step - loss: 0.6155 - accuracy: 0.7730 - val_loss: 0.9418 - val_accuracy: 0.6425\n",
      "Epoch 7/10\n",
      "200/200 [==============================] - 74s 371ms/step - loss: 0.5298 - accuracy: 0.8028 - val_loss: 0.9106 - val_accuracy: 0.6819\n",
      "Epoch 8/10\n",
      "200/200 [==============================] - 74s 372ms/step - loss: 0.4081 - accuracy: 0.8506 - val_loss: 1.0651 - val_accuracy: 0.6406\n",
      "Epoch 9/10\n",
      "200/200 [==============================] - 75s 374ms/step - loss: 0.3323 - accuracy: 0.8803 - val_loss: 1.1105 - val_accuracy: 0.6988\n",
      "Epoch 10/10\n",
      "200/200 [==============================] - 81s 405ms/step - loss: 0.2439 - accuracy: 0.9169 - val_loss: 1.3221 - val_accuracy: 0.6794\n"
     ]
    }
   ],
   "source": [
    "history = model.fit(x_train, y_train, validation_split=0.2, epochs=10, verbose=1)"
   ]
  },
  {
   "cell_type": "code",
   "execution_count": 32,
   "id": "f1d9240d",
   "metadata": {},
   "outputs": [
    {
     "data": {
      "image/png": "[encoded data removed]",
      "text/plain": [
       "<Figure size 1080x288 with 2 Axes>"
      ]
     },
     "metadata": {
      "needs_background": "light"
     },
     "output_type": "display_data"
    }
   ],
   "source": [
    "fig = plt.figure(figsize=(15,4))\n",
    "fig.add_subplot(121)\n",
    "plt.plot(history.history['accuracy'])\n",
    "plt.plot(history.history['val_accuracy'])\n",
    "plt.legend(['Training accuracy', 'Validation accuracy'])\n",
    "plt.title('Training and validation accuracy')\n",
    "plt.xlabel('Epoch Number')\n",
    "plt.ylabel('Accuracy')\n",
    "\n",
    "fig.add_subplot(122)\n",
    "plt.plot(history.history['loss'])\n",
    "plt.plot(history.history['val_loss'])\n",
    "plt.legend(['Training loss', 'Validation loss'])\n",
    "plt.title('Training and validation loss')\n",
    "plt.xlabel('Epoch Number')\n",
    "plt.ylabel('Loss')\n",
    "plt.show()"
   ]
  },
  {
   "cell_type": "code",
   "execution_count": 33,
   "id": "cd9b8a56",
   "metadata": {},
   "outputs": [
    {
     "name": "stdout",
     "output_type": "stream",
     "text": [
      "63/63 [==============================] - 7s 114ms/step - loss: 1.3441 - accuracy: 0.6775\n"
     ]
    },
    {
     "data": {
      "text/plain": [
       "[1.3441237211227417, 0.6775000095367432]"
      ]
     },
     "execution_count": 33,
     "metadata": {},
     "output_type": "execute_result"
    }
   ],
   "source": [
    "model.evaluate(x_test, y_test)"
   ]
  },
  {
   "cell_type": "markdown",
   "id": "e47a0e3f",
   "metadata": {},
   "source": [
    "# Класифікація текстів"
   ]
  },
  {
   "cell_type": "markdown",
   "id": "c66d7359",
   "metadata": {},
   "source": [
    "https://www.kaggle.com/datasets/jp797498e/twitter-entity-sentiment-analysis?select=twitter_training.csv"
   ]
  },
  {
   "cell_type": "code",
   "execution_count": 34,
   "id": "64302c86",
   "metadata": {},
   "outputs": [],
   "source": [
    "data_array = pd.read_csv('twitter_training.csv',delimiter=',', header=None)"
   ]
  },
  {
   "cell_type": "code",
   "execution_count": 35,
   "id": "461e1987",
   "metadata": {},
   "outputs": [
    {
     "data": {
      "text/html": [
       "<div>\n",
       "<style scoped>\n",
       "    .dataframe tbody tr th:only-of-type {\n",
       "        vertical-align: middle;\n",
       "    }\n",
       "\n",
       "    .dataframe tbody tr th {\n",
       "        vertical-align: top;\n",
       "    }\n",
       "\n",
       "    .dataframe thead th {\n",
       "        text-align: right;\n",
       "    }\n",
       "</style>\n",
       "<table border=\"1\" class=\"dataframe\">\n",
       "  <thead>\n",
       "    <tr style=\"text-align: right;\">\n",
       "      <th></th>\n",
       "      <th>2</th>\n",
       "      <th>3</th>\n",
       "    </tr>\n",
       "  </thead>\n",
       "  <tbody>\n",
       "    <tr>\n",
       "      <th>0</th>\n",
       "      <td>2</td>\n",
       "      <td>im getting on borderlands and i will murder yo...</td>\n",
       "    </tr>\n",
       "    <tr>\n",
       "      <th>1</th>\n",
       "      <td>2</td>\n",
       "      <td>I am coming to the borders and I will kill you...</td>\n",
       "    </tr>\n",
       "    <tr>\n",
       "      <th>2</th>\n",
       "      <td>2</td>\n",
       "      <td>im getting on borderlands and i will kill you ...</td>\n",
       "    </tr>\n",
       "    <tr>\n",
       "      <th>3</th>\n",
       "      <td>2</td>\n",
       "      <td>im coming on borderlands and i will murder you...</td>\n",
       "    </tr>\n",
       "    <tr>\n",
       "      <th>4</th>\n",
       "      <td>2</td>\n",
       "      <td>im getting on borderlands 2 and i will murder ...</td>\n",
       "    </tr>\n",
       "    <tr>\n",
       "      <th>...</th>\n",
       "      <td>...</td>\n",
       "      <td>...</td>\n",
       "    </tr>\n",
       "    <tr>\n",
       "      <th>74677</th>\n",
       "      <td>2</td>\n",
       "      <td>Just realized that the Windows partition of my...</td>\n",
       "    </tr>\n",
       "    <tr>\n",
       "      <th>74678</th>\n",
       "      <td>2</td>\n",
       "      <td>Just realized that my Mac window partition is ...</td>\n",
       "    </tr>\n",
       "    <tr>\n",
       "      <th>74679</th>\n",
       "      <td>2</td>\n",
       "      <td>Just realized the windows partition of my Mac ...</td>\n",
       "    </tr>\n",
       "    <tr>\n",
       "      <th>74680</th>\n",
       "      <td>2</td>\n",
       "      <td>Just realized between the windows partition of...</td>\n",
       "    </tr>\n",
       "    <tr>\n",
       "      <th>74681</th>\n",
       "      <td>2</td>\n",
       "      <td>Just like the windows partition of my Mac is l...</td>\n",
       "    </tr>\n",
       "  </tbody>\n",
       "</table>\n",
       "<p>61121 rows × 2 columns</p>\n",
       "</div>"
      ],
      "text/plain": [
       "       2                                                  3\n",
       "0      2  im getting on borderlands and i will murder yo...\n",
       "1      2  I am coming to the borders and I will kill you...\n",
       "2      2  im getting on borderlands and i will kill you ...\n",
       "3      2  im coming on borderlands and i will murder you...\n",
       "4      2  im getting on borderlands 2 and i will murder ...\n",
       "...   ..                                                ...\n",
       "74677  2  Just realized that the Windows partition of my...\n",
       "74678  2  Just realized that my Mac window partition is ...\n",
       "74679  2  Just realized the windows partition of my Mac ...\n",
       "74680  2  Just realized between the windows partition of...\n",
       "74681  2  Just like the windows partition of my Mac is l...\n",
       "\n",
       "[61121 rows x 2 columns]"
      ]
     },
     "execution_count": 35,
     "metadata": {},
     "output_type": "execute_result"
    }
   ],
   "source": [
    "del data_array[0]\n",
    "del data_array[1]\n",
    "data_array=data_array.dropna()\n",
    "data_array=data_array[data_array[2]!='Irrelevant']\n",
    "label_encoder = LabelEncoder()\n",
    "data_array[2]= label_encoder.fit_transform(data_array[2])\n",
    "data_array"
   ]
  },
  {
   "cell_type": "code",
   "execution_count": 36,
   "id": "4a0a9dba",
   "metadata": {},
   "outputs": [],
   "source": [
    "for message in data_array[3]:\n",
    "    message = message.lower()\n",
    "    message = re.sub('[%s]' % re.escape(string.punctuation), ' ', message)\n",
    "    message = re.sub('\\s{2,}', \" \", message)\n",
    "    stop_words = stopwords.words(\"english\")\n",
    "    message = ' '.join([word for word in message.split(' ') if word not in stop_words])"
   ]
  },
  {
   "cell_type": "code",
   "execution_count": 37,
   "id": "f4281a17",
   "metadata": {},
   "outputs": [],
   "source": [
    "num_words = 10000\n",
    "max_article_length=750\n",
    "tokenizer = Tokenizer(num_words=num_words)\n",
    "tokenizer.fit_on_texts(data_array[3])\n",
    "x = tokenizer.texts_to_sequences(data_array[3])\n",
    "x = tf.keras.preprocessing.sequence.pad_sequences(x, maxlen=max_article_length)\n",
    "y = data_array[2]"
   ]
  },
  {
   "cell_type": "code",
   "execution_count": 38,
   "id": "088c25db",
   "metadata": {},
   "outputs": [],
   "source": [
    "model = keras.Sequential()\n",
    "model.add(Embedding(input_dim=num_words, output_dim = 64, input_length=max_article_length))\n",
    "model.add(LSTM(units=64, return_sequences=True))\n",
    "model.add(LSTM(units=64))\n",
    "model.add(Dense(3, activation='softmax'))"
   ]
  },
  {
   "cell_type": "code",
   "execution_count": 39,
   "id": "3c9a259c",
   "metadata": {},
   "outputs": [],
   "source": [
    "model.compile(optimizer='adam', loss='sparse_categorical_crossentropy', metrics=['accuracy'])"
   ]
  },
  {
   "cell_type": "code",
   "execution_count": 40,
   "id": "c928b0d8",
   "metadata": {},
   "outputs": [
    {
     "name": "stdout",
     "output_type": "stream",
     "text": [
      "Model: \"sequential_2\"\n",
      "_________________________________________________________________\n",
      " Layer (type)                Output Shape              Param #   \n",
      "=================================================================\n",
      " embedding (Embedding)       (None, 750, 64)           640000    \n",
      "                                                                 \n",
      " lstm (LSTM)                 (None, 750, 64)           33024     \n",
      "                                                                 \n",
      " lstm_1 (LSTM)               (None, 64)                33024     \n",
      "                                                                 \n",
      " dense_5 (Dense)             (None, 3)                 195       \n",
      "                                                                 \n",
      "=================================================================\n",
      "Total params: 706,243\n",
      "Trainable params: 706,243\n",
      "Non-trainable params: 0\n",
      "_________________________________________________________________\n"
     ]
    }
   ],
   "source": [
    "model.summary()"
   ]
  },
  {
   "cell_type": "code",
   "execution_count": 41,
   "id": "db54344f",
   "metadata": {},
   "outputs": [],
   "source": [
    "x_train, x_test, y_train, y_test = train_test_split(x, y, train_size=0.5)"
   ]
  },
  {
   "cell_type": "code",
   "execution_count": 42,
   "id": "86d3f241",
   "metadata": {},
   "outputs": [
    {
     "name": "stdout",
     "output_type": "stream",
     "text": [
      "Epoch 1/5\n",
      "764/764 [==============================] - 419s 544ms/step - loss: 0.7879 - accuracy: 0.6530 - val_loss: 0.6418 - val_accuracy: 0.7358\n",
      "Epoch 2/5\n",
      "764/764 [==============================] - 439s 575ms/step - loss: 0.4673 - accuracy: 0.8174 - val_loss: 0.5301 - val_accuracy: 0.7940\n",
      "Epoch 3/5\n",
      "764/764 [==============================] - 455s 596ms/step - loss: 0.3087 - accuracy: 0.8835 - val_loss: 0.5111 - val_accuracy: 0.8135\n",
      "Epoch 4/5\n",
      "764/764 [==============================] - 477s 625ms/step - loss: 0.2227 - accuracy: 0.9171 - val_loss: 0.5091 - val_accuracy: 0.8259\n",
      "Epoch 5/5\n",
      "764/764 [==============================] - 509s 666ms/step - loss: 0.1702 - accuracy: 0.9335 - val_loss: 0.5752 - val_accuracy: 0.8189\n"
     ]
    }
   ],
   "source": [
    "history = model.fit(x_train,\n",
    "                    y_train,\n",
    "                    epochs=5,\n",
    "                    validation_split=0.2,\n",
    "                    verbose = 1)"
   ]
  },
  {
   "cell_type": "code",
   "execution_count": 43,
   "id": "f1a398fb",
   "metadata": {},
   "outputs": [
    {
     "data": {
      "image/png": "[encoded data removed]",
      "text/plain": [
       "<Figure size 1080x288 with 2 Axes>"
      ]
     },
     "metadata": {
      "needs_background": "light"
     },
     "output_type": "display_data"
    }
   ],
   "source": [
    "fig = plt.figure(figsize=(15,4))\n",
    "fig.add_subplot(121)\n",
    "plt.plot(history.history['accuracy'])\n",
    "plt.plot(history.history['val_accuracy'])\n",
    "plt.legend(['Training accuracy', 'Validation accuracy'])\n",
    "plt.title('Training and validation accuracy')\n",
    "plt.xlabel('Epoch Number')\n",
    "plt.ylabel('Accuracy')\n",
    "\n",
    "fig.add_subplot(122)\n",
    "plt.plot(history.history['loss'])\n",
    "plt.plot(history.history['val_loss'])\n",
    "plt.legend(['Training loss', 'Validation loss'])\n",
    "plt.title('Training and validation loss')\n",
    "plt.xlabel('Epoch Number')\n",
    "plt.ylabel('Loss')\n",
    "plt.show()"
   ]
  },
  {
   "cell_type": "code",
   "execution_count": 44,
   "id": "be47d71b",
   "metadata": {},
   "outputs": [
    {
     "name": "stdout",
     "output_type": "stream",
     "text": [
      "956/956 [==============================] - 191s 199ms/step - loss: 0.5564 - accuracy: 0.8273\n"
     ]
    },
    {
     "data": {
      "text/plain": [
       "[0.5564054250717163, 0.8273289203643799]"
      ]
     },
     "execution_count": 44,
     "metadata": {},
     "output_type": "execute_result"
    }
   ],
   "source": [
    "model.evaluate(x_test, y_test)"
   ]
  },
  {
   "cell_type": "code",
   "execution_count": null,
   "id": "775250f0",
   "metadata": {},
   "outputs": [],
   "source": []
  }
 ],
 "metadata": {
  "kernelspec": {
   "display_name": "Python 3 (ipykernel)",
   "language": "python",
   "name": "python3"
  },
  "language_info": {
   "codemirror_mode": {
    "name": "ipython",
    "version": 3
   },
   "file_extension": ".py",
   "mimetype": "text/x-python",
   "name": "python",
   "nbconvert_exporter": "python",
   "pygments_lexer": "ipython3",
   "version": "3.9.7"
  }
 },
 "nbformat": 4,
 "nbformat_minor": 5
}
